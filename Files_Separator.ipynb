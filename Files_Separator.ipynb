{
 "cells": [
  {
   "cell_type": "code",
   "execution_count": 3,
   "metadata": {},
   "outputs": [
    {
     "name": "stdout",
     "output_type": "stream",
     "text": [
      "compressed_files compressed_files\n",
      "desktop.ini ini\n",
      "documents documents\n",
      "executable executable\n",
      "Jupyter_notebook Jupyter_notebook\n",
      "music music\n",
      "photos photos\n",
      "PowerPoint PowerPoint\n",
      "python python\n",
      "Spreadsheets Spreadsheets\n",
      "videos videos\n"
     ]
    }
   ],
   "source": [
    "import os\n",
    "\n",
    "EXTENSION = {\n",
    "    'photos': ['jpg', 'jpeg', 'png', 'gif', 'JPG', 'doc', 'psd','PNG'],\n",
    "    'documents': ['pdf', 'docx', 'xls', 'xlsx', 'csv', 'sql', 'csv', 'key', 'tsv', 'PDF', 'rtf','txt'],\n",
    "    'executable': ['exe'],\n",
    "    'videos': ['mp4', 'mkv', 'avi', 'mpeg', '3gp', '3gpp'],\n",
    "    'music': ['mp3', 'wmv', 'acc', 'wma','m4a','aac','wav'],\n",
    "    'python': ['py', 'pyc'],\n",
    "    'Jupyter_notebook':['ipynb'],\n",
    "    'Spreadsheets':['xlsm','csv'],\n",
    "    'PowerPoint':['pptx'],\n",
    "    'compressed_files': ['zip', 'tar','rar','tgz','xz']\n",
    "}\n",
    "# to create folder inside folder\n",
    "\n",
    "BASE_DIR = r'C:\\\\Users\\\\Arzun\\\\Downloads' # Path of folder where you want to do this task\n",
    "\n",
    "for folder_name in EXTENSION:\n",
    "    folder_path = os.path.join(BASE_DIR, folder_name)\n",
    "    if not os.path.exists(folder_path):\n",
    "        os.mkdir(folder_path)\n",
    "\n",
    "# Adding files in the respective folder\n",
    "\n",
    "for file_name in os.listdir(BASE_DIR):\n",
    "    ext = file_name.split('.')[-1]\n",
    "    print(file_name, ext)\n",
    "    for folder_name, extensions in EXTENSION.items():\n",
    "        if ext in extensions:\n",
    "            os.rename(\n",
    "                os.path.join(BASE_DIR, file_name),\n",
    "                os.path.join(BASE_DIR, folder_name, file_name)\n",
    "            )\n",
    "            continue"
   ]
  },
  {
   "cell_type": "code",
   "execution_count": null,
   "metadata": {},
   "outputs": [],
   "source": []
  }
 ],
 "metadata": {
  "kernelspec": {
   "display_name": "Python 3",
   "language": "python",
   "name": "python3"
  },
  "language_info": {
   "codemirror_mode": {
    "name": "ipython",
    "version": 3
   },
   "file_extension": ".py",
   "mimetype": "text/x-python",
   "name": "python",
   "nbconvert_exporter": "python",
   "pygments_lexer": "ipython3",
   "version": "3.6.10"
  }
 },
 "nbformat": 4,
 "nbformat_minor": 4
}
