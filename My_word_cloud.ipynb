{
  "nbformat": 4,
  "nbformat_minor": 0,
  "metadata": {
    "colab": {
      "name": "My_word_cloud.ipynb",
      "provenance": [],
      "collapsed_sections": [],
      "include_colab_link": true
    },
    "kernelspec": {
      "name": "python3",
      "display_name": "Python 3"
    }
  },
  "cells": [
    {
      "cell_type": "markdown",
      "metadata": {
        "id": "view-in-github",
        "colab_type": "text"
      },
      "source": [
        "<a href=\"https://colab.research.google.com/github/aktrikx/Python_projects/blob/main/My_word_cloud.ipynb\" target=\"_parent\"><img src=\"https://colab.research.google.com/assets/colab-badge.svg\" alt=\"Open In Colab\"/></a>"
      ]
    },
    {
      "cell_type": "code",
      "metadata": {
        "id": "OsoSb6speMdr",
        "colab": {
          "base_uri": "https://localhost:8080/"
        },
        "outputId": "6f580d69-5ba9-4d07-9af3-7594a492fd9a"
      },
      "source": [
        "!pip install git+https://git@github.com/kavgan/word_cloud.git"
      ],
      "execution_count": null,
      "outputs": [
        {
          "output_type": "stream",
          "name": "stdout",
          "text": [
            "Looking in indexes: https://pypi.org/simple, https://us-python.pkg.dev/colab-wheels/public/simple/\n",
            "Collecting git+https://****@github.com/kavgan/word_cloud.git\n",
            "  Cloning https://****@github.com/kavgan/word_cloud.git to /tmp/pip-req-build-xinse4o9\n",
            "  Running command git clone -q 'https://****@github.com/kavgan/word_cloud.git' /tmp/pip-req-build-xinse4o9\n",
            "Requirement already satisfied: scikit-learn>=0.19.1 in /usr/local/lib/python3.7/dist-packages (from word-cloud==0.0.0) (1.0.2)\n",
            "Requirement already satisfied: pandas>=0.20.3 in /usr/local/lib/python3.7/dist-packages (from word-cloud==0.0.0) (1.3.5)\n",
            "Requirement already satisfied: pytz>=2017.3 in /usr/local/lib/python3.7/dist-packages (from pandas>=0.20.3->word-cloud==0.0.0) (2022.1)\n",
            "Requirement already satisfied: numpy>=1.17.3 in /usr/local/lib/python3.7/dist-packages (from pandas>=0.20.3->word-cloud==0.0.0) (1.21.6)\n",
            "Requirement already satisfied: python-dateutil>=2.7.3 in /usr/local/lib/python3.7/dist-packages (from pandas>=0.20.3->word-cloud==0.0.0) (2.8.2)\n",
            "Requirement already satisfied: six>=1.5 in /usr/local/lib/python3.7/dist-packages (from python-dateutil>=2.7.3->pandas>=0.20.3->word-cloud==0.0.0) (1.15.0)\n",
            "Requirement already satisfied: scipy>=1.1.0 in /usr/local/lib/python3.7/dist-packages (from scikit-learn>=0.19.1->word-cloud==0.0.0) (1.4.1)\n",
            "Requirement already satisfied: threadpoolctl>=2.0.0 in /usr/local/lib/python3.7/dist-packages (from scikit-learn>=0.19.1->word-cloud==0.0.0) (3.1.0)\n",
            "Requirement already satisfied: joblib>=0.11 in /usr/local/lib/python3.7/dist-packages (from scikit-learn>=0.19.1->word-cloud==0.0.0) (1.1.0)\n",
            "Building wheels for collected packages: word-cloud\n",
            "  Building wheel for word-cloud (setup.py) ... \u001b[?25l\u001b[?25hdone\n",
            "  Created wheel for word-cloud: filename=word_cloud-0.0.0-py3-none-any.whl size=5896 sha256=66554be36e367e8e7e192b1f7b459ce5a6604b39add7e70c0e4f931528e9daf3\n",
            "  Stored in directory: /tmp/pip-ephem-wheel-cache-v8due65i/wheels/31/4e/42/acc6e2273058cf74bac4046fcc43d99a1016e6967c001d1fcf\n",
            "Successfully built word-cloud\n",
            "Installing collected packages: word-cloud\n",
            "Successfully installed word-cloud-0.0.0\n"
          ]
        }
      ]
    },
    {
      "cell_type": "code",
      "metadata": {
        "id": "qwlG_HJUKV98"
      },
      "source": [
        "from word_cloud.word_cloud_generator import WordCloud\n",
        "from IPython.core.display import HTML\n",
        "from nltk.corpus import reuters\n",
        "import nltk\n",
        "import pandas as pd"
      ],
      "execution_count": null,
      "outputs": []
    },
    {
      "cell_type": "code",
      "metadata": {
        "id": "5ItQy0RKKi4F"
      },
      "source": [
        "ENGLISH_STOP_WORDS = frozenset([\n",
        "    \"a\", \"about\", \"above\", \"across\", \"after\", \"afterwards\", \"again\", \"against\",\n",
        "    \"all\", \"almost\", \"alone\", \"along\", \"already\", \"also\", \"although\", \"always\",\n",
        "    \"am\", \"among\", \"amongst\", \"amoungst\", \"amount\", \"an\", \"and\", \"another\",\n",
        "    \"any\", \"anyhow\", \"anyone\", \"anything\", \"anyway\", \"anywhere\", \"are\",\n",
        "    \"around\", \"as\", \"at\", \"back\", \"be\", \"became\", \"because\", \"become\",\n",
        "    \"becomes\", \"becoming\", \"been\", \"before\", \"beforehand\", \"behind\", \"being\",\n",
        "    \"below\", \"beside\", \"besides\", \"between\", \"beyond\", \"bill\", \"both\",\n",
        "    \"bottom\", \"but\", \"by\", \"call\", \"can\", \"cannot\", \"cant\", \"co\", \"con\",\n",
        "    \"could\", \"couldnt\", \"cry\", \"de\", \"describe\", \"detail\", \"do\", \"done\",\n",
        "    \"down\", \"due\", \"during\", \"each\", \"eg\", \"eight\", \"either\", \"eleven\", \"else\",\n",
        "    \"elsewhere\", \"empty\", \"enough\", \"etc\", \"even\", \"ever\", \"every\", \"everyone\",\n",
        "    \"everything\", \"everywhere\", \"except\", \"few\", \"fifteen\", \"fifty\", \"fill\",\n",
        "    \"find\", \"fire\", \"first\", \"five\", \"for\", \"former\", \"formerly\", \"forty\",\n",
        "    \"found\", \"four\", \"from\", \"front\", \"full\", \"further\", \"get\", \"give\", \"go\",\n",
        "    \"had\", \"has\", \"hasnt\", \"have\", \"he\", \"hence\", \"her\", \"here\", \"hereafter\",\n",
        "    \"hereby\", \"herein\", \"hereupon\", \"hers\", \"herself\", \"him\", \"himself\", \"his\",\n",
        "    \"how\", \"however\", \"hundred\", \"i\", \"ie\", \"if\", \"in\", \"inc\", \"indeed\",\n",
        "    \"interest\", \"into\", \"is\", \"it\", \"its\", \"itself\", \"keep\", \"last\", \"latter\",\n",
        "    \"latterly\", \"least\", \"less\", \"ltd\", \"made\", \"many\", \"may\", \"me\",\n",
        "    \"meanwhile\", \"might\", \"mill\", \"mine\", \"more\", \"moreover\", \"most\", \"mostly\",\n",
        "    \"move\", \"much\", \"must\", \"my\", \"myself\", \"name\", \"namely\", \"neither\",\n",
        "    \"never\", \"nevertheless\", \"next\", \"nine\", \"no\", \"nobody\", \"none\", \"noone\",\n",
        "    \"nor\", \"not\", \"nothing\", \"now\", \"nowhere\", \"of\", \"off\", \"often\", \"on\",\n",
        "    \"once\", \"one\", \"only\", \"onto\", \"or\", \"other\", \"others\", \"otherwise\", \"our\",\n",
        "    \"ours\", \"ourselves\", \"out\", \"over\", \"own\", \"part\", \"per\", \"perhaps\",\n",
        "    \"please\", \"put\", \"rather\", \"re\", \"same\", \"see\", \"seem\", \"seemed\",\n",
        "    \"seeming\", \"seems\", \"serious\", \"several\", \"she\", \"should\", \"show\", \"side\",\n",
        "    \"since\", \"sincere\", \"six\", \"sixty\", \"so\", \"some\", \"somehow\", \"someone\",\n",
        "    \"something\", \"sometime\", \"sometimes\", \"somewhere\", \"still\", \"such\",\n",
        "    \"system\", \"take\", \"ten\", \"than\", \"that\", \"the\", \"their\", \"them\",\n",
        "    \"themselves\", \"then\", \"thence\", \"there\", \"thereafter\", \"thereby\",\n",
        "    \"therefore\", \"therein\", \"thereupon\", \"these\", \"they\", \"thick\", \"thin\",\n",
        "    \"third\", \"this\", \"those\", \"though\", \"three\", \"through\", \"throughout\",\n",
        "    \"thru\", \"thus\", \"to\", \"together\", \"too\", \"top\", \"toward\", \"towards\",\n",
        "    \"twelve\", \"twenty\", \"two\", \"un\", \"under\", \"until\", \"up\", \"upon\", \"us\",\n",
        "    \"very\", \"via\", \"was\", \"we\", \"well\", \"were\", \"what\", \"whatever\", \"when\",\n",
        "    \"whence\", \"whenever\", \"where\", \"whereafter\", \"whereas\", \"whereby\",\n",
        "    \"wherein\", \"whereupon\", \"wherever\", \"whether\", \"which\", \"while\", \"whither\",\n",
        "    \"who\", \"whoever\", \"whole\", \"whom\", \"whose\", \"why\", \"will\", \"with\",\n",
        "    \"within\", \"without\", \"would\", \"yet\", \"said\",\"you\", \"your\", \"yours\", \"yourself\",\n",
        "    \"yourselves\",\"want\",\"told\",\"tell\",\"just\",\"does\",\"mr\",\"wanted\",\"using\",\"stay\",\"used\"])"
      ],
      "execution_count": null,
      "outputs": []
    },
    {
      "cell_type": "code",
      "metadata": {
        "id": "72W1IpdjKrZb",
        "colab": {
          "base_uri": "https://localhost:8080/",
          "height": 454
        },
        "outputId": "f7d29817-dfda-4886-caf9-e3d2c881195b"
      },
      "source": [
        "#text\n",
        "texts=['''I was broken into pieces and my beautifully perfect life has just ended when she told me it\\’s over how easily she said it\\’s over but how can I convince my heart that its over I was no more in her life she is not going to hold my hand anymore I will not get any good morning and good night text from her, she will not going to kiss me anymore because it\\’s over.\n",
        "I am Rajeev Sharma  son of Mr. Rakesh Sharma everyone used to tell me I was lucky just because after my graduation I got a Job in Bank of India as a Clerk Through IBPS examination without much struggle generally in Darjeeling  percentage of  unemployed youth is very  high so getting a Government job means you should be lucky rather than being  hardworking and intelligent and  because of environmental influence I was taking myself as lucky. Wherever I go they just see me with the eyes of respect and I enjoyed that though I was just a small clerk of small branch of bank earning wage which is just enough to meet day to day  needs.  I have to look after my family also because my father is self certified carpenter without any proper guidance so where ever he work he just get less than what said  cause he makes some mistakes every time at work  but always blames equipment  for that more interestingly  he thinks he is best at his works that Is why most of his  customer does not offer any work to him and I think more than money he want  other to praise his work many of them just take advantage of  it and make him work with praise and praise only  my father also get satisfied with that but when he enter home with so much praise and empty pocket my mom start anti-praising him  at that time my father becomes a great saint giving all of us lecture on humanity my little sister. I too had a love story.I am a simple girl from simple family with simple living style but not so somple thought and today I want to share my story of so called  \\\"love\\\". There no one in the world who do not want to have this special feeling where we start feeling like there is one who cares me the most and he is the one with whom I want to spend rest of my life.\n",
        "Everyone says love happens once in a life , I was also in love but interestingly twice so I started thinking like first one is not true though at that time when I was in class ten I had a deep impact of love and that person with whom I used to chat till 4am in morning, I used to take long bath so that I can chat with him in peace because I am from middle class family so we don\\\"t have separate rooms for each family member so we have share our rooms so anyone can enter without permission and whenever parents catch me using mobile phone for long time they will scold me like I was involved in someone\"s murder.\n",
        "Time is passing slowly and the influence of that person in my life was severe , I always wanted to be in contact with him, whenever he was with some other friends and if he is not contacting me regularly I get hyper on him which is a usual schene of every couple I guess and during my 12th board exam we used to  fight everyday on very silly things, I don\\\"t know wether I am sensitive or what, but whenever we had a fight I cant concentrate on my studies.\n",
        "Result  is good it helps me to feel that he is not that much special which I have thought but my exam result was bad but parents made it worse I have not got admission in my state and I dont wanted study their luckily my uncle helped me to get a admission in Sikkim University so I have to stay away from home which gives me mixed feeling but good wala i feeling is more.\n",
        "Now I am in Sikkim new people, new friends but still my past is haunting me so I started haunting for new one to forget him totally, I was staying in University hostel and university is quite far from hostel so I have to take a bus the journey is short it takes only 20-25 minutes to reach there but I started feeling like bus  is moving quite faster from usual. Whenever I was in Bus times moves like a rocket because I met someone very special, He is not handsome , He is not tall, He is not rich he is nowhere close to my dream boy but he is special.\n",
        "I was dreaming about him every now and then, I am very curious to know about him so I was using so many new tricks to know him I started finding our mutual friends so I got some basic information about him then I send a facebook friend request to him we slowly had a interaction  then I got his phone number and by that he also knew I had a crush on him.\n",
        "  He is from mathematics and I am from llB our depatments is in the same building so one day he asked me to meet him over a phone I was super excited as well as shy so we met and it was a big news for my friends because I have not dated from long back, like a celebrities they have circulated a message \\\"------------------ is in dating\\\" each of my friends call me, disturb me I was so angry at them but at the sametime I was very happy and slowly we started meeting regularly.\n",
        "Everyday I enter hostel at around 9pm so I have to listen to warden, seniors everyone out there but still I dont care because I have him and for him I can do anything but routine continues everyday we used to drink then we went to our individual room as he was staying in rented house he dont have any problem wether he is entering a room at 9am or 12pm but  in hostel as I was reaching at around 9pm , I have to mess with everyone but at that time I was not able to think about anything else I just wanted to be with him thats all and for that I can take any risk. Sometimes he ask me stay with him in my friend room whenever he said that I get very scared so I always refuse that though somewhere I was feeling bad to refuse him because I love him.\n",
        "At starting of every relationship everything is like a sweetest chocolate but when it gets older it turns to dark chocolate he always wanted to crack lectureship examination so he started giving  a less time for me and my messages he used to take hours to reply one single message and I was really very hurt he had given some reason for that he was taking tutions because he have to pay a rent to house owner, so and so, but I was not satisfied with the reason I want him treat me like a queen but he is ignoring me I could feel that.\n",
        "So I started doing same so that he valued my importance I was also taking so long reply him, I was also walking with some of my boys friends  in front of him to make him jealous   I did all possible things to bring him back. I think he knows  I am not perfect I do have some problem or many problem but he forgot  I love him truly he knows I am a determined girl and can change my habits but he forgot  I love him, he knew how I had to deal with people of hostels when I was with him  but he forget I was really very alone without him because I love him.\n",
        "Today Sometimes I feel like what If I become very sucessful, without him sucess does not count.\n",
        "Afterwards his department was transfered near to our hostel and I could see him from corridor of our hostel so I used to walk there again and again just to see him but whenever we face  each other though he tries to talk to me but I never responded because I was feelng so ignored over my messages and phone calls. Time is running but I was in a same place and whenever I get drunk I call him and try to convince him but nothing changes. One day he came to me at 8am I was surprised he told me \"I am sorry  I had a new girlfriend nothing can change now you are very good girl you should quit drinking and all\" I was breaking from inside I was wishing he will say I am just joking I want to be with you I love you or it was just a dream.\n",
        "That day I responded him very rudely I was very hurt  now I saw him with his new girlfriend holding her hand and it breaks me everyday. I wish we could go back to that time when everything was fine between us.\n",
        "This is my story\n",
        "From writer \n",
        "He lost her which is his greatest loss a girl with beautiful heart, a kind hearted person though jiddi but she want him to fulfill all zid , a girl who can fight with him for everyone and most importantly she loves him .  \n",
        "''']\n",
        "\n",
        "wc=WordCloud(use_tfidf=False,stopwords=ENGLISH_STOP_WORDS)\n",
        "\n",
        "#don't randomize color, show only top 50\n",
        "embed_code=wc.get_embed_code(text=texts,random_color=False,topn=50)\n",
        "HTML(embed_code)"
      ],
      "execution_count": null,
      "outputs": [
        {
          "output_type": "stream",
          "name": "stderr",
          "text": [
            "/usr/local/lib/python3.7/dist-packages/sklearn/utils/deprecation.py:87: FutureWarning: Function get_feature_names is deprecated; get_feature_names is deprecated in 1.0 and will be removed in 1.2. Please use get_feature_names_out instead.\n",
            "  warnings.warn(msg, category=FutureWarning)\n"
          ]
        },
        {
          "output_type": "execute_result",
          "data": {
            "text/plain": [
              "<IPython.core.display.HTML object>"
            ],
            "text/html": [
              "<div align='center' style='width:100%'><div align='center' style='text-align:justify; border-radius: 25px;background: #fff7f7;overflow: auto; width:500px !important; padding:20px; '; text-align: center; word-wrap: break-word;> <span style='color:#6C22E6;font-size:1.8499999999999996em;white-space: normal;font-family:verdana;display: inline-block;line-height:30px'>praise&nbsp;</span> <span style='color:#2ECC71;font-size:1.5499999999999998em;white-space: normal;font-family:verdana;display: inline-block;line-height:30px'>feel&nbsp;</span> <span style='color:#3498DB;font-size:1.1em;white-space: normal;font-family:verdana;display: inline-block;line-height:30px'>small&nbsp;</span> <span style='color:#3498DB;font-size:1.1em;white-space: normal;font-family:verdana;display: inline-block;line-height:30px'>things&nbsp;</span> <span style='color:#848484;font-size:2.4499999999999993em;white-space: normal;font-family:verdana;display: inline-block;line-height:30px'>hostel&nbsp;</span> <span style='color:#3498DB;font-size:1.1em;white-space: normal;font-family:verdana;display: inline-block;line-height:30px'>wether&nbsp;</span> <span style='color:#6C22E6;font-size:1.8499999999999996em;white-space: normal;font-family:verdana;display: inline-block;line-height:30px'>got&nbsp;</span> <span style='color:#2ECC71;font-size:1.5499999999999998em;white-space: normal;font-family:verdana;display: inline-block;line-height:30px'>lucky&nbsp;</span> <span style='color:#2ECC71;font-size:1.5499999999999998em;white-space: normal;font-family:verdana;display: inline-block;line-height:30px'>story&nbsp;</span> <span style='color:#2ECC71;font-size:1.5499999999999998em;white-space: normal;font-family:verdana;display: inline-block;line-height:30px'>simple&nbsp;</span> <span style='color:#3498DB;font-size:1.1em;white-space: normal;font-family:verdana;display: inline-block;line-height:30px'>satisfied&nbsp;</span> <span style='color:#FA5858;font-size:3.199999999999999em;white-space: normal;font-family:verdana;display: inline-block;line-height:30px'>time&nbsp;</span> <span style='color:#3498DB;font-size:1.1em;white-space: normal;font-family:verdana;display: inline-block;line-height:30px'>staying&nbsp;</span> <span style='color:#2ECC71;font-size:1.5499999999999998em;white-space: normal;font-family:verdana;display: inline-block;line-height:30px'>room&nbsp;</span> <span style='color:#ACB02E;font-size:2.1499999999999995em;white-space: normal;font-family:verdana;display: inline-block;line-height:30px'>good&nbsp;</span> <span style='color:#2ECC71;font-size:1.5499999999999998em;white-space: normal;font-family:verdana;display: inline-block;line-height:30px'>person&nbsp;</span> <span style='color:#3498DB;font-size:1.1em;white-space: normal;font-family:verdana;display: inline-block;line-height:30px'>start&nbsp;</span> <span style='color:#04B404;font-size:2.599999999999999em;white-space: normal;font-family:verdana;display: inline-block;line-height:30px'>started&nbsp;</span> <span style='color:#2ECC71;font-size:1.5499999999999998em;white-space: normal;font-family:verdana;display: inline-block;line-height:30px'>problem&nbsp;</span> <span style='color:#2ECC71;font-size:1.5499999999999998em;white-space: normal;font-family:verdana;display: inline-block;line-height:30px'>university&nbsp;</span> <span style='color:#2ECC71;font-size:1.5499999999999998em;white-space: normal;font-family:verdana;display: inline-block;line-height:30px'>fight&nbsp;</span> <span style='color:#ACB02E;font-size:2.1499999999999995em;white-space: normal;font-family:verdana;display: inline-block;line-height:30px'>life&nbsp;</span> <span style='color:#848484;font-size:2.4499999999999993em;white-space: normal;font-family:verdana;display: inline-block;line-height:30px'>feeling&nbsp;</span> <span style='color:#ACB02E;font-size:2.1499999999999995em;white-space: normal;font-family:verdana;display: inline-block;line-height:30px'>day&nbsp;</span> <span style='color:#6C22E6;font-size:1.8499999999999996em;white-space: normal;font-family:verdana;display: inline-block;line-height:30px'>long&nbsp;</span> <span style='color:#3498DB;font-size:1.1em;white-space: normal;font-family:verdana;display: inline-block;line-height:30px'>rooms&nbsp;</span> <span style='color:#848484;font-size:2.4499999999999993em;white-space: normal;font-family:verdana;display: inline-block;line-height:30px'>friends&nbsp;</span> <span style='color:#6C22E6;font-size:1.8499999999999996em;white-space: normal;font-family:verdana;display: inline-block;line-height:30px'>family&nbsp;</span> <span style='color:#2ECC71;font-size:1.5499999999999998em;white-space: normal;font-family:verdana;display: inline-block;line-height:30px'>father&nbsp;</span> <span style='color:#3498DB;font-size:1.1em;white-space: normal;font-family:verdana;display: inline-block;line-height:30px'>share&nbsp;</span> <span style='color:#6C22E6;font-size:1.8499999999999996em;white-space: normal;font-family:verdana;display: inline-block;line-height:30px'>phone&nbsp;</span> <span style='color:#3498DB;font-size:1.1em;white-space: normal;font-family:verdana;display: inline-block;line-height:30px'>thought&nbsp;</span> <span style='color:#ACB02E;font-size:2.1499999999999995em;white-space: normal;font-family:verdana;display: inline-block;line-height:30px'>girl&nbsp;</span> <span style='color:#6C22E6;font-size:1.8499999999999996em;white-space: normal;font-family:verdana;display: inline-block;line-height:30px'>everyday&nbsp;</span> <span style='color:#2ECC71;font-size:1.5499999999999998em;white-space: normal;font-family:verdana;display: inline-block;line-height:30px'>bus&nbsp;</span> <span style='color:#2ECC71;font-size:1.5499999999999998em;white-space: normal;font-family:verdana;display: inline-block;line-height:30px'>think&nbsp;</span> <span style='color:#2ECC71;font-size:1.5499999999999998em;white-space: normal;font-family:verdana;display: inline-block;line-height:30px'>know&nbsp;</span> <span style='color:#2ECC71;font-size:1.5499999999999998em;white-space: normal;font-family:verdana;display: inline-block;line-height:30px'>slowly&nbsp;</span> <span style='color:#3498DB;font-size:1.1em;white-space: normal;font-family:verdana;display: inline-block;line-height:30px'>usual&nbsp;</span> <span style='color:#b82c2c;font-size:3.4999999999999987em;white-space: normal;font-family:verdana;display: inline-block;line-height:30px'>love&nbsp;</span> <span style='color:#848484;font-size:2.4499999999999993em;white-space: normal;font-family:verdana;display: inline-block;line-height:30px'>new&nbsp;</span> <span style='color:#2ECC71;font-size:1.5499999999999998em;white-space: normal;font-family:verdana;display: inline-block;line-height:30px'>dont&nbsp;</span> <span style='color:#FA5858;font-size:3.199999999999999em;white-space: normal;font-family:verdana;display: inline-block;line-height:30px'>like&nbsp;</span> <span style='color:#3498DB;font-size:1.1em;white-space: normal;font-family:verdana;display: inline-block;line-height:30px'>today&nbsp;</span> <span style='color:#3498DB;font-size:1.1em;white-space: normal;font-family:verdana;display: inline-block;line-height:30px'>sikkim&nbsp;</span> <span style='color:#3498DB;font-size:1.1em;white-space: normal;font-family:verdana;display: inline-block;line-height:30px'>sharma&nbsp;</span> <span style='color:#2ECC71;font-size:1.5499999999999998em;white-space: normal;font-family:verdana;display: inline-block;line-height:30px'>enter&nbsp;</span> <span style='color:#6C22E6;font-size:1.8499999999999996em;white-space: normal;font-family:verdana;display: inline-block;line-height:30px'>special&nbsp;</span> <span style='color:#ACB02E;font-size:2.1499999999999995em;white-space: normal;font-family:verdana;display: inline-block;line-height:30px'>work&nbsp;</span> <span style='color:#2ECC71;font-size:1.5499999999999998em;white-space: normal;font-family:verdana;display: inline-block;line-height:30px'>taking&nbsp;</span></div></div>"
            ]
          },
          "metadata": {},
          "execution_count": 13
        }
      ]
    },
    {
      "cell_type": "code",
      "source": [
        ""
      ],
      "metadata": {
        "id": "7bWrNtiVTYY9"
      },
      "execution_count": null,
      "outputs": []
    }
  ]
}