{
 "cells": [
  {
   "cell_type": "code",
   "execution_count": null,
   "metadata": {},
   "outputs": [],
   "source": [
    "Method 1: "
   ]
  },
  {
   "cell_type": "code",
   "execution_count": 9,
   "metadata": {},
   "outputs": [
    {
     "name": "stdout",
     "output_type": "stream",
     "text": [
      "Optimal value = 3.0\n",
      "Solutions are:\n",
      " x1 = 3.0\n",
      " x2 = 0.0\n"
     ]
    }
   ],
   "source": [
    "# !pip install ortools\n",
    "from ortools.linear_solver import pywraplp\n",
    "# Linear solver\n",
    "solver = pywraplp.Solver('Minimize', pywraplp.Solver.CBC_MIXED_INTEGER_PROGRAMMING)\n",
    "\n",
    "# Variables\n",
    "x1 = solver.IntVar(0, solver.infinity(), 'x1')\n",
    "x2 = solver.IntVar(0, solver.infinity(), 'x2')\n",
    "\n",
    "# Constraints\n",
    "solver.Add(x1 - x2 <= 3)\n",
    "solver.Add(2*x1 + x2 >= 5)\n",
    "\n",
    "# Minimize Objective Function\n",
    "solver.Minimize(x1+x2)\n",
    "\n",
    "status = solver.Solve()\n",
    "\n",
    "# If an optimal solution has been found, print results\n",
    "if status == pywraplp.Solver.OPTIMAL:\n",
    "    print(f'Optimal value = {solver.Objective().Value()}')\n",
    "    print('Solutions are:')\n",
    "    print(f' x1 = {x1.solution_value()}')\n",
    "    print(f' x2 = {x2.solution_value()}')\n",
    "else:\n",
    "    print('The solver could not find an optimal solution.')\n",
    "    "
   ]
  },
  {
   "cell_type": "markdown",
   "metadata": {},
   "source": [
    "Method 2:"
   ]
  },
  {
   "cell_type": "code",
   "execution_count": 15,
   "metadata": {},
   "outputs": [
    {
     "name": "stdout",
     "output_type": "stream",
     "text": [
      "Gurobi Optimizer version 9.5.0 build v9.5.0rc5 (win64)\n",
      "Thread count: 2 physical cores, 4 logical processors, using up to 4 threads\n",
      "Optimize a model with 2 rows, 2 columns and 4 nonzeros\n",
      "Model fingerprint: 0x62c04df0\n",
      "Variable types: 0 continuous, 2 integer (0 binary)\n",
      "Coefficient statistics:\n",
      "  Matrix range     [1e+00, 2e+00]\n",
      "  Objective range  [1e+00, 1e+00]\n",
      "  Bounds range     [0e+00, 0e+00]\n",
      "  RHS range        [3e+00, 5e+00]\n",
      "Found heuristic solution: objective 5.0000000\n",
      "Presolve removed 2 rows and 2 columns\n",
      "Presolve time: 0.00s\n",
      "Presolve: All rows and columns removed\n",
      "\n",
      "Explored 0 nodes (0 simplex iterations) in 0.01 seconds (0.00 work units)\n",
      "Thread count was 1 (of 4 available processors)\n",
      "\n",
      "Solution count 2: 3 5 \n",
      "\n",
      "Optimal solution found (tolerance 1.00e-04)\n",
      "Best objective 3.000000000000e+00, best bound 3.000000000000e+00, gap 0.0000%\n",
      "\n",
      "    Variable            X \n",
      "-------------------------\n",
      "          X1            3 \n"
     ]
    }
   ],
   "source": [
    "import gurobipy as gp\n",
    "from gurobipy import GRB\n",
    "# Model\n",
    "m = gp.Model()\n",
    "# Variables\n",
    "X1 = m.addVar(vtype=GRB.INTEGER, name=\"X1\")\n",
    "X2 = m.addVar(vtype=GRB.INTEGER, name=\"X2\")\n",
    "# Objective function\n",
    "m.setObjective(X1 + X2, GRB.MINIMIZE)\n",
    "# Adding the 2 constraints\n",
    "c1 = m.addConstr(X1 - X2 <= 3)\n",
    "c2 = m.addConstr(2*X1 + X2 >= 5)\n",
    "# Solving\n",
    "m.optimize()\n",
    "m.printAttr('X')"
   ]
  },
  {
   "cell_type": "code",
   "execution_count": null,
   "metadata": {},
   "outputs": [],
   "source": []
  }
 ],
 "metadata": {
  "kernelspec": {
   "display_name": "Python 3",
   "language": "python",
   "name": "python3"
  },
  "language_info": {
   "codemirror_mode": {
    "name": "ipython",
    "version": 3
   },
   "file_extension": ".py",
   "mimetype": "text/x-python",
   "name": "python",
   "nbconvert_exporter": "python",
   "pygments_lexer": "ipython3",
   "version": "3.7.6"
  }
 },
 "nbformat": 4,
 "nbformat_minor": 5
}
